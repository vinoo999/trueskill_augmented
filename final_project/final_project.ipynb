{
 "cells": [
  {
   "cell_type": "markdown",
   "metadata": {},
   "source": [
    "# FifaSkill\n",
    "\n",
    "A Probabalistic Programming Package for European Soccer Analysis by Vinay Ramesh (vrr2112) and Alek Anchowski (aja2173)\n"
   ]
  },
  {
   "cell_type": "code",
   "execution_count": 1,
   "metadata": {},
   "outputs": [],
   "source": [
    "from fifaskill.data_processing import process\n",
    "from fifaskill.models import regression\n",
    "import numpy as np\n",
    "import pandas as pd\n",
    "import sqlite3\n",
    "\n",
    "from IPython.display import display"
   ]
  },
  {
   "cell_type": "markdown",
   "metadata": {},
   "source": [
    "## Introduction\n",
    "\n",
    "Trueskill, developed by Microsoft Research, is a Bayesian Skill Ranking System that models individual and team skill as Gaussians (Herbrich, Minka, Graepel). The original system models a player's skill, variance in performance, and uses an Expectation Propogation algorithm for inference. This paper was the central motivation to our project.\n",
    "\n",
    "In our project Fifaskill, we attempt to extend the Trueskill method to FIFA games, with the aim of modeling a team's overall skill and predicting future matches. Some of the notable changes we adopt include:\n",
    " * Modeling: We not only model skill but also specific scoring outcomes to model domain specific features like offense and defense\n",
    " * Inference: We use Black Box Methods for Variational Inference or MAP Estimation instead of exact updates for Expectation Propagation [which is proved extremely difficult in Edward]\n",
    " * Criticism: We evaluate our model using mean statistic PPC to determine of goals predicted or goal difference predicted are reasonable\n",
    "\n",
    "Our package can be installed by running `pip install .` after navigating to the first Fifaskill directory."
   ]
  },
  {
   "cell_type": "markdown",
   "metadata": {},
   "source": [
    "## Data\n",
    "\n",
    "Our report begins in the middle of Box's loop to better understand the dataset used. We use the [Kaggle Dataset for European Soccer Matches](https://www.kaggle.com/hugomathien/soccer) \n",
    "consisting of lists of matches in 11 leagues for 8 seasons. Only intra-league games are provided and matches in joint European Leagues like the UEFA Champions League are not included. We are thus forced to evaluate leagues individually. The query we will use focuses on the English Premier League (EPL) but can be trivially modified to any other league by specifying the relevant country in the query file.  \n",
    "\n",
    "A [Kaggle Notebook by Ashirwad](https://www.kaggle.com/ashirwadsangwan/competitiveness-in-the-european-leagues/notebook) noted that the parity was highest in the English Premier League within the given dataset which makes this particular league the most challenging and perhaps most interesting for our analysis. We draw the below image from his notebook analysis to demonstrate this fact.  \n",
    "\n",
    "![alt text](https://github.com/vinoo999/trueskill_augmented/raw/master/final_project/images/competitiveness.png)\n"
   ]
  },
  {
   "cell_type": "code",
   "execution_count": 33,
   "metadata": {},
   "outputs": [
    {
     "data": {
      "text/html": [
       "<div>\n",
       "<style scoped>\n",
       "    .dataframe tbody tr th:only-of-type {\n",
       "        vertical-align: middle;\n",
       "    }\n",
       "\n",
       "    .dataframe tbody tr th {\n",
       "        vertical-align: top;\n",
       "    }\n",
       "\n",
       "    .dataframe thead th {\n",
       "        text-align: right;\n",
       "    }\n",
       "</style>\n",
       "<table border=\"1\" class=\"dataframe\">\n",
       "  <thead>\n",
       "    <tr style=\"text-align: right;\">\n",
       "      <th></th>\n",
       "      <th>id</th>\n",
       "      <th>country_name</th>\n",
       "      <th>league_name</th>\n",
       "      <th>season</th>\n",
       "      <th>stage</th>\n",
       "      <th>date</th>\n",
       "      <th>home_team</th>\n",
       "      <th>away_team</th>\n",
       "      <th>home_team_goal</th>\n",
       "      <th>away_team_goal</th>\n",
       "    </tr>\n",
       "  </thead>\n",
       "  <tbody>\n",
       "    <tr>\n",
       "      <th>0</th>\n",
       "      <td>1730</td>\n",
       "      <td>England</td>\n",
       "      <td>England Premier League</td>\n",
       "      <td>2008/2009</td>\n",
       "      <td>1</td>\n",
       "      <td>2008-08-16 00:00:00</td>\n",
       "      <td>Arsenal</td>\n",
       "      <td>West Bromwich Albion</td>\n",
       "      <td>1</td>\n",
       "      <td>0</td>\n",
       "    </tr>\n",
       "    <tr>\n",
       "      <th>1</th>\n",
       "      <td>1731</td>\n",
       "      <td>England</td>\n",
       "      <td>England Premier League</td>\n",
       "      <td>2008/2009</td>\n",
       "      <td>1</td>\n",
       "      <td>2008-08-16 00:00:00</td>\n",
       "      <td>Sunderland</td>\n",
       "      <td>Liverpool</td>\n",
       "      <td>0</td>\n",
       "      <td>1</td>\n",
       "    </tr>\n",
       "  </tbody>\n",
       "</table>\n",
       "</div>"
      ],
      "text/plain": [
       "     id country_name             league_name     season  stage  \\\n",
       "0  1730      England  England Premier League  2008/2009      1   \n",
       "1  1731      England  England Premier League  2008/2009      1   \n",
       "\n",
       "                  date   home_team             away_team  home_team_goal  \\\n",
       "0  2008-08-16 00:00:00     Arsenal  West Bromwich Albion               1   \n",
       "1  2008-08-16 00:00:00  Sunderland             Liverpool               0   \n",
       "\n",
       "   away_team_goal  \n",
       "0               0  \n",
       "1               1  "
      ]
     },
     "execution_count": 33,
     "metadata": {},
     "output_type": "execute_result"
    }
   ],
   "source": [
    "# Now we load our EPL Data\n",
    "db = '../database.sqlite'\n",
    "query_fname = '../db_queries/detailed_match_query.sql'\n",
    "\n",
    "conn = sqlite3.connect(db)\n",
    "\n",
    "q_file = open(query_fname, 'r')\n",
    "data = pd.read_sql(q_file.read(), conn)\n",
    "\n",
    "data.head(2)"
   ]
  },
  {
   "cell_type": "markdown",
   "metadata": {},
   "source": [
    "Below we partition our data to get ready for training with our models."
   ]
  },
  {
   "cell_type": "code",
   "execution_count": 34,
   "metadata": {},
   "outputs": [
    {
     "data": {
      "text/html": [
       "<div>\n",
       "<style scoped>\n",
       "    .dataframe tbody tr th:only-of-type {\n",
       "        vertical-align: middle;\n",
       "    }\n",
       "\n",
       "    .dataframe tbody tr th {\n",
       "        vertical-align: top;\n",
       "    }\n",
       "\n",
       "    .dataframe thead th {\n",
       "        text-align: right;\n",
       "    }\n",
       "</style>\n",
       "<table border=\"1\" class=\"dataframe\">\n",
       "  <thead>\n",
       "    <tr style=\"text-align: right;\">\n",
       "      <th></th>\n",
       "      <th>id</th>\n",
       "      <th>country_name</th>\n",
       "      <th>league_name</th>\n",
       "      <th>season</th>\n",
       "      <th>stage</th>\n",
       "      <th>date</th>\n",
       "      <th>home_team</th>\n",
       "      <th>away_team</th>\n",
       "      <th>home_team_goal</th>\n",
       "      <th>away_team_goal</th>\n",
       "    </tr>\n",
       "  </thead>\n",
       "  <tbody>\n",
       "    <tr>\n",
       "      <th>0</th>\n",
       "      <td>1730</td>\n",
       "      <td>England</td>\n",
       "      <td>England Premier League</td>\n",
       "      <td>2008/2009</td>\n",
       "      <td>1</td>\n",
       "      <td>2008-08-16 00:00:00</td>\n",
       "      <td>Arsenal</td>\n",
       "      <td>West Bromwich Albion</td>\n",
       "      <td>1</td>\n",
       "      <td>0</td>\n",
       "    </tr>\n",
       "    <tr>\n",
       "      <th>258</th>\n",
       "      <td>1917</td>\n",
       "      <td>England</td>\n",
       "      <td>England Premier League</td>\n",
       "      <td>2008/2009</td>\n",
       "      <td>26</td>\n",
       "      <td>2009-02-23 00:00:00</td>\n",
       "      <td>Hull City</td>\n",
       "      <td>Tottenham Hotspur</td>\n",
       "      <td>1</td>\n",
       "      <td>2</td>\n",
       "    </tr>\n",
       "  </tbody>\n",
       "</table>\n",
       "</div>"
      ],
      "text/plain": [
       "       id country_name             league_name     season  stage  \\\n",
       "0    1730      England  England Premier League  2008/2009      1   \n",
       "258  1917      England  England Premier League  2008/2009     26   \n",
       "\n",
       "                    date  home_team             away_team  home_team_goal  \\\n",
       "0    2008-08-16 00:00:00    Arsenal  West Bromwich Albion               1   \n",
       "258  2009-02-23 00:00:00  Hull City     Tottenham Hotspur               1   \n",
       "\n",
       "     away_team_goal  \n",
       "0                 0  \n",
       "258               2  "
      ]
     },
     "metadata": {},
     "output_type": "display_data"
    },
    {
     "data": {
      "text/html": [
       "<div>\n",
       "<style scoped>\n",
       "    .dataframe tbody tr th:only-of-type {\n",
       "        vertical-align: middle;\n",
       "    }\n",
       "\n",
       "    .dataframe tbody tr th {\n",
       "        vertical-align: top;\n",
       "    }\n",
       "\n",
       "    .dataframe thead th {\n",
       "        text-align: right;\n",
       "    }\n",
       "</style>\n",
       "<table border=\"1\" class=\"dataframe\">\n",
       "  <thead>\n",
       "    <tr style=\"text-align: right;\">\n",
       "      <th></th>\n",
       "      <th>id</th>\n",
       "      <th>country_name</th>\n",
       "      <th>league_name</th>\n",
       "      <th>season</th>\n",
       "      <th>stage</th>\n",
       "      <th>date</th>\n",
       "      <th>home_team</th>\n",
       "      <th>away_team</th>\n",
       "      <th>home_team_goal</th>\n",
       "      <th>away_team_goal</th>\n",
       "    </tr>\n",
       "  </thead>\n",
       "  <tbody>\n",
       "    <tr>\n",
       "      <th>2912</th>\n",
       "      <td>4573</td>\n",
       "      <td>England</td>\n",
       "      <td>England Premier League</td>\n",
       "      <td>2015/2016</td>\n",
       "      <td>26</td>\n",
       "      <td>2016-02-13 00:00:00</td>\n",
       "      <td>Crystal Palace</td>\n",
       "      <td>Watford</td>\n",
       "      <td>1</td>\n",
       "      <td>2</td>\n",
       "    </tr>\n",
       "    <tr>\n",
       "      <th>2913</th>\n",
       "      <td>4574</td>\n",
       "      <td>England</td>\n",
       "      <td>England Premier League</td>\n",
       "      <td>2015/2016</td>\n",
       "      <td>26</td>\n",
       "      <td>2016-02-13 00:00:00</td>\n",
       "      <td>Everton</td>\n",
       "      <td>West Bromwich Albion</td>\n",
       "      <td>0</td>\n",
       "      <td>1</td>\n",
       "    </tr>\n",
       "  </tbody>\n",
       "</table>\n",
       "</div>"
      ],
      "text/plain": [
       "        id country_name             league_name     season  stage  \\\n",
       "2912  4573      England  England Premier League  2015/2016     26   \n",
       "2913  4574      England  England Premier League  2015/2016     26   \n",
       "\n",
       "                     date       home_team             away_team  \\\n",
       "2912  2016-02-13 00:00:00  Crystal Palace               Watford   \n",
       "2913  2016-02-13 00:00:00         Everton  West Bromwich Albion   \n",
       "\n",
       "      home_team_goal  away_team_goal  \n",
       "2912               1               2  \n",
       "2913               0               1  "
      ]
     },
     "metadata": {},
     "output_type": "display_data"
    }
   ],
   "source": [
    "train, test = process.partition_data(data, by_season=True)\n",
    "\n",
    "display(train.head(2))\n",
    "display(test.head(2))"
   ]
  },
  {
   "cell_type": "markdown",
   "metadata": {},
   "source": [
    "## Model\n",
    "\n",
    "### The Original Model\n",
    "\n",
    "The TrueSkill model described earlier models player performance $s$ as a Gaussian Random Variable with mean $\\mu=25$ and $\\sigma=\\frac{25}{3}$. $\\mu$ represents the player's \"true\" skill. It follows that, given two team's performances, $s_1$ and $s_2$, we can deterministically model the game's outcome, $r$ as below:\n",
    "$$ r = \\begin{cases} 1 & \\text{ if } s_1 - s_2 > t \\\\-1 & \\text{ if } s_1 - s_2 < -t \\\\ 0 & \\text{ otherwise} \\\\\\end{cases}$$\n",
    "where $t$ is a threshold to determine draws. Probabalistically, we can thus draw $s \\sim \\mathcal{N}(\\mu, \\sigma)$ which is sufficient specify our generative 'outcomes.'\n",
    "\n",
    "Originally, our intention was to use model data as follows:\n",
    " * Let there be $N$ teams and $M$ matches. Define the $N \\times N$ matrix $R$[team1, team2] to be the average difference of goals scored between team1 and team2 in relevant matchups. Thus $R[team1, team2] == -R[team2, team1]$.\n",
    " * Our latent variable $S$ would then be a $N$-dimensional Normal vector whose pairwise distance draws would approximate $R$\n",
    "\n",
    "After difficulty implementing this particular model in Edward we noticed that it could be translated into a simple Bayesian Linear Regression model:\n",
    " * Let $X$ be the $M \\times N$ matrix where each row represents a two-hot vector where an entry is 1 if the team is home, -1 if the team is away, 0 otherwise\n",
    " * Define weight matrix $W \\sim \\mathcal{N}(25, \\frac{25}{3} ^ 2)$ as a $d \\times 1$ matrix denoting the skill of each team\n",
    " * $Y \\sim \\mathcal{N}(XW,\\textbf{1})$ where $Y$ is the goal difference for a particular match\n",
    "\n",
    "The graphical model is shown below.\n",
    "\n",
    "![alt text](https://github.com/vinoo999/trueskill_augmented/raw/master/final_project/images/Bayesian_Linear_Regression.png)"
   ]
  },
  {
   "cell_type": "code",
   "execution_count": 4,
   "metadata": {},
   "outputs": [],
   "source": [
    "inf_type = 'Var'"
   ]
  },
  {
   "cell_type": "code",
   "execution_count": 5,
   "metadata": {},
   "outputs": [
    {
     "name": "stdout",
     "output_type": "stream",
     "text": [
      "    1/10000 [  0%]                                ETA: 1726s | Loss: 8326.283"
     ]
    },
    {
     "name": "stderr",
     "output_type": "stream",
     "text": [
      "/mnt/c/Users/aanic/Documents/python-environments/pp/lib/python3.6/site-packages/edward/util/random_variables.py:52: FutureWarning: Conversion of the second argument of issubdtype from `float` to `np.floating` is deprecated. In future, it will be treated as `np.float64 == np.dtype(float).type`.\n",
      "  not np.issubdtype(value.dtype, np.float) and \\\n"
     ]
    },
    {
     "name": "stdout",
     "output_type": "stream",
     "text": [
      "10000/10000 [100%] ██████████████████████████████ Elapsed: 16s | Loss: 6247.814\n"
     ]
    }
   ],
   "source": [
    "from fifaskill.models import regression\n",
    "tsr = regression.TrueSkillRegressor(train, inf_type, n_iter=10000)"
   ]
  },
  {
   "cell_type": "markdown",
   "metadata": {},
   "source": [
    "### Offense Defense Separation\n",
    "\n",
    "To extend the basic model we seperate the team's skill into two skills, offense $\\mu_{io}$ and defense $\\mu_{id}$. Offensive performance $W_o$ and defensive performance $W_d$ are modeled as Gaussian Random Variables. Offensive score $Y_1$ and defensive score $Y_2$ are modeled as Poisson Random Variables with rate parameter $W_o$ and $W_d$ respectively. We stick with our Bayesian Regression approach by having one $W_o$ vector and one $W_i$ vector. This is almost the composition of two log-linear models which can theoretically be written as a compound Poisson regression model. We look at both models [graphical models provided below] as our primary solutions to our Bayesian Skill problem. \n",
    "\n",
    "![alt text](https://github.com/vinoo999/trueskill_augmented/raw/master/final_project/images/Bayesian_Log_Linear_Model.png)\n",
    "![alt text](https://github.com/vinoo999/trueskill_augmented/blob/master/final_project/images/Bayesian_Compound_Log_Linear2.png?raw=true)"
   ]
  },
  {
   "cell_type": "code",
   "execution_count": 6,
   "metadata": {},
   "outputs": [
    {
     "name": "stdout",
     "output_type": "stream",
     "text": [
      "10000/10000 [100%] ██████████████████████████████ Elapsed: 21s | Loss: 9081.604\n",
      "10000/10000 [100%] ██████████████████████████████ Elapsed: 19s | Loss: 76561.477\n"
     ]
    }
   ],
   "source": [
    "off_def = regression.LogLinearOffDef(train, inf_type, n_iter=10000)\n",
    "log_lin = regression.LogLinear(train, inf_type, n_iter=10000)"
   ]
  },
  {
   "cell_type": "markdown",
   "metadata": {},
   "source": [
    "## Inference\n",
    "\n",
    "In the definitions of the models above, our classes inadvertently run inference. Both MAP Estimation and Reparameterization Gradient Black Box Variational Inference were tested and can be tested using first code cell in the model section [`inf` can be set to `Var` or `MAP`]. There were no significant discoveries in differences in convergence time nor model evaluation statistics. Hamilton Monte Carlo was implemented in early stages of our model development, but we found more flexibility through Edward in using BBVI and MAP. \n",
    "\n",
    "Below we show the characteristic loss under Variational Inference. Note that the noise in the loss and resultingly the graident is very high. We were unable to reduce the variance substantially by reducing the learning rate or changing hyperparameters or optimizers for this particular inference problem. For the Offense-Defense model, which clearly has the most variance, RMSProp appeared to lower the variance for MAP Estimation but not for Variational Inference. "
   ]
  },
  {
   "cell_type": "code",
   "execution_count": 7,
   "metadata": {},
   "outputs": [
    {
     "data": {
      "image/png": "[encoded data removed]",
      "text/plain": [
       "<Figure size 432x288 with 1 Axes>"
      ]
     },
     "metadata": {
      "needs_background": "light"
     },
     "output_type": "display_data"
    },
    {
     "data": {
      "image/png": "[encoded data removed]",
      "text/plain": [
       "<Figure size 432x288 with 1 Axes>"
      ]
     },
     "metadata": {
      "needs_background": "light"
     },
     "output_type": "display_data"
    },
    {
     "data": {
      "image/png": "[encoded data removed]",
      "text/plain": [
       "<Figure size 432x288 with 1 Axes>"
      ]
     },
     "metadata": {
      "needs_background": "light"
     },
     "output_type": "display_data"
    }
   ],
   "source": [
    "from fifaskill.data_processing import visualization\n",
    "%matplotlib inline\n",
    "visualization.plot_loss(tsr)\n",
    "visualization.plot_loss(off_def)\n",
    "visualization.plot_loss(log_lin)"
   ]
  },
  {
   "cell_type": "markdown",
   "metadata": {},
   "source": [
    "### A TrueSkill Package as a Benchmark\n",
    "This last model uses a TrueSkill python package that used expectation propagation as cited in the paper. We wrapped it to better serve our project. "
   ]
  },
  {
   "cell_type": "code",
   "execution_count": 8,
   "metadata": {},
   "outputs": [],
   "source": [
    "from fifaskill.models import trueskill_model\n",
    "tsm = trueskill_model.TrueskillModel(train)"
   ]
  },
  {
   "cell_type": "markdown",
   "metadata": {},
   "source": [
    "## Model Evaluation and Criticism"
   ]
  },
  {
   "cell_type": "markdown",
   "metadata": {},
   "source": [
    "We will conduct both empirical evaluation as well as some pointwise statistic evaluation and lastly a posterior predictive check on the mean of the distribution. \n",
    "\n",
    "Firstly we provide the top ten skill-ordered rankings of the models"
   ]
  },
  {
   "cell_type": "code",
   "execution_count": 35,
   "metadata": {},
   "outputs": [
    {
     "data": {
      "text/html": [
       "<div>\n",
       "<style scoped>\n",
       "    .dataframe tbody tr th:only-of-type {\n",
       "        vertical-align: middle;\n",
       "    }\n",
       "\n",
       "    .dataframe tbody tr th {\n",
       "        vertical-align: top;\n",
       "    }\n",
       "\n",
       "    .dataframe thead th {\n",
       "        text-align: right;\n",
       "    }\n",
       "</style>\n",
       "<table border=\"1\" class=\"dataframe\">\n",
       "  <thead>\n",
       "    <tr style=\"text-align: right;\">\n",
       "      <th></th>\n",
       "      <th>real_data</th>\n",
       "      <th>tsr</th>\n",
       "      <th>offdef</th>\n",
       "      <th>loglin</th>\n",
       "      <th>tsm</th>\n",
       "    </tr>\n",
       "  </thead>\n",
       "  <tbody>\n",
       "    <tr>\n",
       "      <th>0</th>\n",
       "      <td>Leicester City</td>\n",
       "      <td>Chelsea</td>\n",
       "      <td>Manchester United</td>\n",
       "      <td>Chelsea</td>\n",
       "      <td>Chelsea</td>\n",
       "    </tr>\n",
       "    <tr>\n",
       "      <th>1</th>\n",
       "      <td>Arsenal</td>\n",
       "      <td>Manchester United</td>\n",
       "      <td>Chelsea</td>\n",
       "      <td>Southampton</td>\n",
       "      <td>Manchester City</td>\n",
       "    </tr>\n",
       "    <tr>\n",
       "      <th>2</th>\n",
       "      <td>Tottenham Hotspur</td>\n",
       "      <td>Manchester City</td>\n",
       "      <td>Manchester City</td>\n",
       "      <td>Manchester City</td>\n",
       "      <td>Manchester United</td>\n",
       "    </tr>\n",
       "    <tr>\n",
       "      <th>3</th>\n",
       "      <td>Manchester City</td>\n",
       "      <td>Arsenal</td>\n",
       "      <td>Arsenal</td>\n",
       "      <td>Tottenham Hotspur</td>\n",
       "      <td>Arsenal</td>\n",
       "    </tr>\n",
       "    <tr>\n",
       "      <th>4</th>\n",
       "      <td>Manchester United</td>\n",
       "      <td>Liverpool</td>\n",
       "      <td>Liverpool</td>\n",
       "      <td>Manchester United</td>\n",
       "      <td>Tottenham Hotspur</td>\n",
       "    </tr>\n",
       "    <tr>\n",
       "      <th>5</th>\n",
       "      <td>Southampton</td>\n",
       "      <td>Tottenham Hotspur</td>\n",
       "      <td>Tottenham Hotspur</td>\n",
       "      <td>Liverpool</td>\n",
       "      <td>Liverpool</td>\n",
       "    </tr>\n",
       "    <tr>\n",
       "      <th>6</th>\n",
       "      <td>West Ham United</td>\n",
       "      <td>Everton</td>\n",
       "      <td>Everton</td>\n",
       "      <td>Arsenal</td>\n",
       "      <td>Everton</td>\n",
       "    </tr>\n",
       "    <tr>\n",
       "      <th>7</th>\n",
       "      <td>Liverpool</td>\n",
       "      <td>Southampton</td>\n",
       "      <td>Southampton</td>\n",
       "      <td>Leicester City</td>\n",
       "      <td>Southampton</td>\n",
       "    </tr>\n",
       "    <tr>\n",
       "      <th>8</th>\n",
       "      <td>Stoke City</td>\n",
       "      <td>Swansea City</td>\n",
       "      <td>Swansea City</td>\n",
       "      <td>Everton</td>\n",
       "      <td>Swansea City</td>\n",
       "    </tr>\n",
       "    <tr>\n",
       "      <th>9</th>\n",
       "      <td>Chelsea</td>\n",
       "      <td>Leicester City</td>\n",
       "      <td>Leicester City</td>\n",
       "      <td>Crystal Palace</td>\n",
       "      <td>Stoke City</td>\n",
       "    </tr>\n",
       "  </tbody>\n",
       "</table>\n",
       "</div>"
      ],
      "text/plain": [
       "           real_data                tsr             offdef             loglin  \\\n",
       "0     Leicester City            Chelsea  Manchester United            Chelsea   \n",
       "1            Arsenal  Manchester United            Chelsea        Southampton   \n",
       "2  Tottenham Hotspur    Manchester City    Manchester City    Manchester City   \n",
       "3    Manchester City            Arsenal            Arsenal  Tottenham Hotspur   \n",
       "4  Manchester United          Liverpool          Liverpool  Manchester United   \n",
       "5        Southampton  Tottenham Hotspur  Tottenham Hotspur          Liverpool   \n",
       "6    West Ham United            Everton            Everton            Arsenal   \n",
       "7          Liverpool        Southampton        Southampton     Leicester City   \n",
       "8         Stoke City       Swansea City       Swansea City            Everton   \n",
       "9            Chelsea     Leicester City     Leicester City     Crystal Palace   \n",
       "\n",
       "                 tsm  \n",
       "0            Chelsea  \n",
       "1    Manchester City  \n",
       "2  Manchester United  \n",
       "3            Arsenal  \n",
       "4  Tottenham Hotspur  \n",
       "5          Liverpool  \n",
       "6            Everton  \n",
       "7        Southampton  \n",
       "8       Swansea City  \n",
       "9         Stoke City  "
      ]
     },
     "metadata": {},
     "output_type": "display_data"
    }
   ],
   "source": [
    "tsr_results = process.rankings_from_skills(tsr.team_skill, tsr.team_num_map)\n",
    "offdef_results = process.rankings_from_skills(off_def.team_skill[0] + off_def.team_skill[1], off_def.team_num_map)\n",
    "loglin_results = process.rankings_from_skills(log_lin.team_skill, log_lin.team_num_map)\n",
    "tsm_results = process.rankings_from_skills(tsm.team_skills, tsm.team_num_map)\n",
    "\n",
    "season_results = process.rankings(test)\n",
    "data_dict = {}\n",
    "data_dict['real_data'] = pd.Series(season_results.index.values)\n",
    "data_dict['tsr'] = pd.Series(tsr_results.index.values)\n",
    "data_dict['offdef'] = pd.Series(offdef_results.index.values)\n",
    "data_dict['loglin'] = pd.Series(loglin_results.index.values)\n",
    "data_dict['tsm'] = pd.Series(tsm_results.index.values)\n",
    "\n",
    "display(pd.DataFrame(data_dict).head(10))"
   ]
  },
  {
   "cell_type": "markdown",
   "metadata": {},
   "source": [
    "As a clearer representation of similarity we can run simulations using our inferred parameters and display updated point tables. "
   ]
  },
  {
   "cell_type": "code",
   "execution_count": 41,
   "metadata": {},
   "outputs": [
    {
     "data": {
      "text/html": [
       "<div>\n",
       "<style scoped>\n",
       "    .dataframe tbody tr th:only-of-type {\n",
       "        vertical-align: middle;\n",
       "    }\n",
       "\n",
       "    .dataframe tbody tr th {\n",
       "        vertical-align: top;\n",
       "    }\n",
       "\n",
       "    .dataframe thead th {\n",
       "        text-align: right;\n",
       "    }\n",
       "</style>\n",
       "<table border=\"1\" class=\"dataframe\">\n",
       "  <thead>\n",
       "    <tr style=\"text-align: right;\">\n",
       "      <th></th>\n",
       "      <th>real_data_points</th>\n",
       "      <th>tsr_points</th>\n",
       "      <th>offdef_points</th>\n",
       "      <th>loglin_points</th>\n",
       "      <th>tsm_points</th>\n",
       "    </tr>\n",
       "  </thead>\n",
       "  <tbody>\n",
       "    <tr>\n",
       "      <th>Leicester City</th>\n",
       "      <td>81.0</td>\n",
       "      <td>51.0</td>\n",
       "      <td>58.0</td>\n",
       "      <td>61.0</td>\n",
       "      <td>21.0</td>\n",
       "    </tr>\n",
       "    <tr>\n",
       "      <th>Arsenal</th>\n",
       "      <td>71.0</td>\n",
       "      <td>76.0</td>\n",
       "      <td>74.0</td>\n",
       "      <td>71.0</td>\n",
       "      <td>90.0</td>\n",
       "    </tr>\n",
       "    <tr>\n",
       "      <th>Tottenham Hotspur</th>\n",
       "      <td>70.0</td>\n",
       "      <td>54.0</td>\n",
       "      <td>69.0</td>\n",
       "      <td>93.0</td>\n",
       "      <td>70.0</td>\n",
       "    </tr>\n",
       "    <tr>\n",
       "      <th>Manchester United</th>\n",
       "      <td>66.0</td>\n",
       "      <td>63.0</td>\n",
       "      <td>92.0</td>\n",
       "      <td>93.0</td>\n",
       "      <td>90.0</td>\n",
       "    </tr>\n",
       "    <tr>\n",
       "      <th>Manchester City</th>\n",
       "      <td>66.0</td>\n",
       "      <td>62.0</td>\n",
       "      <td>69.0</td>\n",
       "      <td>94.0</td>\n",
       "      <td>90.0</td>\n",
       "    </tr>\n",
       "  </tbody>\n",
       "</table>\n",
       "</div>"
      ],
      "text/plain": [
       "                   real_data_points  tsr_points  offdef_points  loglin_points  \\\n",
       "Leicester City                 81.0        51.0           58.0           61.0   \n",
       "Arsenal                        71.0        76.0           74.0           71.0   \n",
       "Tottenham Hotspur              70.0        54.0           69.0           93.0   \n",
       "Manchester United              66.0        63.0           92.0           93.0   \n",
       "Manchester City                66.0        62.0           69.0           94.0   \n",
       "\n",
       "                   tsm_points  \n",
       "Leicester City           21.0  \n",
       "Arsenal                  90.0  \n",
       "Tottenham Hotspur        70.0  \n",
       "Manchester United        90.0  \n",
       "Manchester City          90.0  "
      ]
     },
     "metadata": {},
     "output_type": "display_data"
    }
   ],
   "source": [
    "tsr_results = tsr.simulate(test.reset_index(drop=True))\n",
    "tsr_record = process.gen_records(test.reset_index(drop=True), tsr_results)\n",
    "offdef_results = off_def.simulate(test.reset_index(drop=True), num_simulations=10)\n",
    "offdef_record = process.gen_records(test.reset_index(drop=True), offdef_results)\n",
    "loglin_results = log_lin.simulate(test.reset_index(drop=True), num_simulations=10)\n",
    "loglin_record = process.gen_records(test.reset_index(drop=True), loglin_results)\n",
    "season_record = process.rankings(test.reset_index(drop=True))\n",
    "tsm_results = tsm.simulate(test.reset_index(drop=True), num_simulations=10)\n",
    "tsm_record = process.gen_records(test.reset_index(drop=True), tsm_results)\n",
    "\n",
    "\n",
    "data_dict = {}\n",
    "data_dict['real_data_points'] = pd.Series(season_record['points'], index=season_record.index.values)\n",
    "data_dict['tsr_points'] = pd.Series(tsr_record['points'], index=tsr_record.index.values)\n",
    "data_dict['offdef_points'] = pd.Series(offdef_record['points'], index=offdef_record.index.values)\n",
    "data_dict['loglin_points'] = pd.Series(loglin_record['points'], index=loglin_record.index.values)\n",
    "data_dict['tsm_points'] = pd.Series(tsm_record['points'], index=tsm_record.index.values)\n",
    "\n",
    "record_chart = pd.DataFrame(data_dict)\n",
    "record_chart = record_chart.sort_values(by='real_data_points', ascending=False)\n",
    "display(record_chart.head(5))\n",
    "\n"
   ]
  },
  {
   "cell_type": "markdown",
   "metadata": {},
   "source": [
    "Lastly we look at the Posterior Predictive Checks to check resemblance to the underlying distribution of goals. We see that the models do not seem to represent the true distribution well."
   ]
  },
  {
   "cell_type": "code",
   "execution_count": 42,
   "metadata": {},
   "outputs": [
    {
     "data": {
      "text/plain": [
       "<Figure size 432x288 with 0 Axes>"
      ]
     },
     "metadata": {},
     "output_type": "display_data"
    },
    {
     "data": {
      "image/png": "[encoded data removed]",
      "text/plain": [
       "<Figure size 432x288 with 2 Axes>"
      ]
     },
     "metadata": {
      "needs_background": "light"
     },
     "output_type": "display_data"
    },
    {
     "data": {
      "text/plain": [
       "<Figure size 432x288 with 0 Axes>"
      ]
     },
     "metadata": {},
     "output_type": "display_data"
    },
    {
     "data": {
      "image/png": "[encoded data removed]",
      "text/plain": [
       "<Figure size 432x288 with 4 Axes>"
      ]
     },
     "metadata": {
      "needs_background": "light"
     },
     "output_type": "display_data"
    },
    {
     "data": {
      "text/plain": [
       "<Figure size 432x288 with 0 Axes>"
      ]
     },
     "metadata": {},
     "output_type": "display_data"
    },
    {
     "data": {
      "image/png": "[encoded data removed]",
      "text/plain": [
       "<Figure size 432x288 with 2 Axes>"
      ]
     },
     "metadata": {
      "needs_background": "light"
     },
     "output_type": "display_data"
    }
   ],
   "source": [
    "from matplotlib import pyplot as plt\n",
    "%matplotlib inline\n",
    "visualization.plot_ppcs(tsr)\n",
    "visualization.plot_ppcs(off_def, log_plot=False)\n",
    "visualization.plot_ppcs(log_lin, log_plot=True)"
   ]
  },
  {
   "cell_type": "markdown",
   "metadata": {},
   "source": [
    "Here we evaluate accuracy"
   ]
  },
  {
   "cell_type": "code",
   "execution_count": 12,
   "metadata": {},
   "outputs": [
    {
     "data": {
      "text/html": [
       "<div>\n",
       "<style scoped>\n",
       "    .dataframe tbody tr th:only-of-type {\n",
       "        vertical-align: middle;\n",
       "    }\n",
       "\n",
       "    .dataframe tbody tr th {\n",
       "        vertical-align: top;\n",
       "    }\n",
       "\n",
       "    .dataframe thead th {\n",
       "        text-align: right;\n",
       "    }\n",
       "</style>\n",
       "<table border=\"1\" class=\"dataframe\">\n",
       "  <thead>\n",
       "    <tr style=\"text-align: right;\">\n",
       "      <th></th>\n",
       "      <th>accuracy</th>\n",
       "    </tr>\n",
       "  </thead>\n",
       "  <tbody>\n",
       "    <tr>\n",
       "      <th>tsr</th>\n",
       "      <td>0.350000</td>\n",
       "    </tr>\n",
       "    <tr>\n",
       "      <th>loglin</th>\n",
       "      <td>0.442105</td>\n",
       "    </tr>\n",
       "    <tr>\n",
       "      <th>offdef</th>\n",
       "      <td>0.368421</td>\n",
       "    </tr>\n",
       "    <tr>\n",
       "      <th>tsm</th>\n",
       "      <td>0.378947</td>\n",
       "    </tr>\n",
       "  </tbody>\n",
       "</table>\n",
       "</div>"
      ],
      "text/plain": [
       "        accuracy\n",
       "tsr     0.350000\n",
       "loglin  0.442105\n",
       "offdef  0.368421\n",
       "tsm     0.378947"
      ]
     },
     "metadata": {},
     "output_type": "display_data"
    }
   ],
   "source": [
    "accuracies = np.zeros(4)\n",
    "accuracies[0] = process.accuracy(test.reset_index(drop=True), tsr_results)\n",
    "accuracies[1] = process.accuracy(test.reset_index(drop=True), loglin_results)\n",
    "accuracies[2] = process.accuracy(test.reset_index(drop=True), offdef_results)\n",
    "accuracies[3] = process.accuracy(test.reset_index(drop=True), tsm_results)\n",
    "\n",
    "data_dict = {\"accuracy\": pd.Series(accuracies, index=['tsr', 'loglin', 'offdef', 'tsm'])}\n",
    "display(pd.DataFrame(data_dict))"
   ]
  },
  {
   "cell_type": "markdown",
   "metadata": {},
   "source": [
    "### Criticism/ Model Revision"
   ]
  },
  {
   "cell_type": "markdown",
   "metadata": {},
   "source": [
    "As we have explained earlier, our original conception of the model greatly changed because the model became trapped in a local optima, which resulted in the adaptation of varying regression models. Since our PPC seemed to underestimate the true posterior distribution, we will also look at investigating a bias term independent of offense and defense"
   ]
  }
 ],
 "metadata": {
  "anaconda-cloud": {},
  "kernelspec": {
   "display_name": "Python 3",
   "language": "python",
   "name": "python3"
  },
  "language_info": {
   "codemirror_mode": {
    "name": "ipython",
    "version": 3
   },
   "file_extension": ".py",
   "mimetype": "text/x-python",
   "name": "python",
   "nbconvert_exporter": "python",
   "pygments_lexer": "ipython3",
   "version": "3.7.0"
  }
 },
 "nbformat": 4,
 "nbformat_minor": 2
}
