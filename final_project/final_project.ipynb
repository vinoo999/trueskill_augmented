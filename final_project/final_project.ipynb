{
 "cells": [
  {
   "cell_type": "markdown",
   "metadata": {},
   "source": [
    "# FifaSkill\n",
    "\n",
    "A Probabalistic Programming Package for European Soccer Analysis by Vinay Ramesh (vrr2112) and Alek Anchowski (aja2173)\n"
   ]
  },
  {
   "cell_type": "code",
   "execution_count": 1,
   "metadata": {},
   "outputs": [
    {
     "name": "stderr",
     "output_type": "stream",
     "text": [
      "/Users/vramesh/Google Drive/University/Sem7/Prob Prog/trueskill_augmented/trueskill_env/lib/python3.7/importlib/_bootstrap.py:219: RuntimeWarning: compiletime version 3.6 of module 'tensorflow.python.framework.fast_tensor_util' does not match runtime version 3.7\n",
      "  return f(*args, **kwds)\n"
     ]
    }
   ],
   "source": [
    "from fifaskill.data_processing import process\n",
    "from fifaskill.models import regression\n",
    "import numpy as np\n",
    "import pandas as pd\n",
    "import sqlite3\n",
    "\n",
    "from IPython.display import display"
   ]
  },
  {
   "cell_type": "markdown",
   "metadata": {},
   "source": [
    "## Introduction\n",
    "\n",
    "Trueskill, developed by Microsoft Research, is a general skill based ranking system based upon a prior distribution around a player's mean skill and variance (Herbrich, Minka, Graepel). The original system models an player's skill, variance in performance, and uses an Expectation Propogation algorithm to update a player's skill representation and variance for every new game that the player participates in.\n",
    "\n",
    "In our project fifaskill, we attempt to extend the Trueskill method to FIFA games, with the aim of modeling a team's overall skill and predicting future matches. We adapt from Trueskill methods because Expectation Propagation and message passing algorithms are not ideally implemented in edward. We experiment with modeling offense and defense skills seperately, as well as home team advantage."
   ]
  },
  {
   "cell_type": "markdown",
   "metadata": {},
   "source": [
    "## Data\n",
    "\n",
    "We will start in the middle of Box's loop for an overview of the data. We use the [Kaggle Dataset for European Soccer Matches](https://www.kaggle.com/hugomathien/soccer) \n",
    "which consists of a list of matches in 11 leagues and 8 seasons. We are interested in predicting outcomes of future matches using this given data. Because Champions League data is not present in this dataset, we evaluate leagues one at a time rather than jointly as we had originally hoped. The query we will use is focused on the English Premier League but can be trivially modified to any other country league by specifying the country in the query.   \n",
    "\n",
    "A [Kaggle Notebook by Ashirwad](https://www.kaggle.com/ashirwadsangwan/competitiveness-in-the-european-leagues/notebook) noted the parity was highest in the English Premier League within the given dataset which makes this particular league the most challenging. We draw the below image from his notebook analysis to demonstrate this fact.  \n",
    "\n",
    "![alt text](https://github.com/vinoo999/trueskill_augmented/raw/master/final_project/images/competitiveness.png)\n"
   ]
  },
  {
   "cell_type": "code",
   "execution_count": 2,
   "metadata": {},
   "outputs": [
    {
     "data": {
      "text/html": [
       "<div>\n",
       "<style scoped>\n",
       "    .dataframe tbody tr th:only-of-type {\n",
       "        vertical-align: middle;\n",
       "    }\n",
       "\n",
       "    .dataframe tbody tr th {\n",
       "        vertical-align: top;\n",
       "    }\n",
       "\n",
       "    .dataframe thead th {\n",
       "        text-align: right;\n",
       "    }\n",
       "</style>\n",
       "<table border=\"1\" class=\"dataframe\">\n",
       "  <thead>\n",
       "    <tr style=\"text-align: right;\">\n",
       "      <th></th>\n",
       "      <th>id</th>\n",
       "      <th>country_name</th>\n",
       "      <th>league_name</th>\n",
       "      <th>season</th>\n",
       "      <th>stage</th>\n",
       "      <th>date</th>\n",
       "      <th>home_team</th>\n",
       "      <th>away_team</th>\n",
       "      <th>home_team_goal</th>\n",
       "      <th>away_team_goal</th>\n",
       "    </tr>\n",
       "  </thead>\n",
       "  <tbody>\n",
       "    <tr>\n",
       "      <th>0</th>\n",
       "      <td>1730</td>\n",
       "      <td>England</td>\n",
       "      <td>England Premier League</td>\n",
       "      <td>2008/2009</td>\n",
       "      <td>1</td>\n",
       "      <td>2008-08-16 00:00:00</td>\n",
       "      <td>Arsenal</td>\n",
       "      <td>West Bromwich Albion</td>\n",
       "      <td>1</td>\n",
       "      <td>0</td>\n",
       "    </tr>\n",
       "    <tr>\n",
       "      <th>1</th>\n",
       "      <td>1731</td>\n",
       "      <td>England</td>\n",
       "      <td>England Premier League</td>\n",
       "      <td>2008/2009</td>\n",
       "      <td>1</td>\n",
       "      <td>2008-08-16 00:00:00</td>\n",
       "      <td>Sunderland</td>\n",
       "      <td>Liverpool</td>\n",
       "      <td>0</td>\n",
       "      <td>1</td>\n",
       "    </tr>\n",
       "  </tbody>\n",
       "</table>\n",
       "</div>"
      ],
      "text/plain": [
       "     id country_name             league_name     season  stage  \\\n",
       "0  1730      England  England Premier League  2008/2009      1   \n",
       "1  1731      England  England Premier League  2008/2009      1   \n",
       "\n",
       "                  date   home_team             away_team  home_team_goal  \\\n",
       "0  2008-08-16 00:00:00     Arsenal  West Bromwich Albion               1   \n",
       "1  2008-08-16 00:00:00  Sunderland             Liverpool               0   \n",
       "\n",
       "   away_team_goal  \n",
       "0               0  \n",
       "1               1  "
      ]
     },
     "execution_count": 2,
     "metadata": {},
     "output_type": "execute_result"
    }
   ],
   "source": [
    "# Now we load our EPL Data\n",
    "db = '../database.sqlite'\n",
    "query_fname = '../db_queries/detailed_match_query.sql'\n",
    "\n",
    "conn = sqlite3.connect(db)\n",
    "\n",
    "q_file = open(query_fname, 'r')\n",
    "data = pd.read_sql(q_file.read(), conn)\n",
    "\n",
    "data.head(2)"
   ]
  },
  {
   "cell_type": "markdown",
   "metadata": {},
   "source": [
    "Below we partition our data to get ready for training with our models."
   ]
  },
  {
   "cell_type": "code",
   "execution_count": 3,
   "metadata": {},
   "outputs": [
    {
     "data": {
      "text/html": [
       "<div>\n",
       "<style scoped>\n",
       "    .dataframe tbody tr th:only-of-type {\n",
       "        vertical-align: middle;\n",
       "    }\n",
       "\n",
       "    .dataframe tbody tr th {\n",
       "        vertical-align: top;\n",
       "    }\n",
       "\n",
       "    .dataframe thead th {\n",
       "        text-align: right;\n",
       "    }\n",
       "</style>\n",
       "<table border=\"1\" class=\"dataframe\">\n",
       "  <thead>\n",
       "    <tr style=\"text-align: right;\">\n",
       "      <th></th>\n",
       "      <th>id</th>\n",
       "      <th>country_name</th>\n",
       "      <th>league_name</th>\n",
       "      <th>season</th>\n",
       "      <th>stage</th>\n",
       "      <th>date</th>\n",
       "      <th>home_team</th>\n",
       "      <th>away_team</th>\n",
       "      <th>home_team_goal</th>\n",
       "      <th>away_team_goal</th>\n",
       "    </tr>\n",
       "  </thead>\n",
       "  <tbody>\n",
       "    <tr>\n",
       "      <th>0</th>\n",
       "      <td>1730</td>\n",
       "      <td>England</td>\n",
       "      <td>England Premier League</td>\n",
       "      <td>2008/2009</td>\n",
       "      <td>1</td>\n",
       "      <td>2008-08-16 00:00:00</td>\n",
       "      <td>Arsenal</td>\n",
       "      <td>West Bromwich Albion</td>\n",
       "      <td>1</td>\n",
       "      <td>0</td>\n",
       "    </tr>\n",
       "    <tr>\n",
       "      <th>258</th>\n",
       "      <td>1917</td>\n",
       "      <td>England</td>\n",
       "      <td>England Premier League</td>\n",
       "      <td>2008/2009</td>\n",
       "      <td>26</td>\n",
       "      <td>2009-02-23 00:00:00</td>\n",
       "      <td>Hull City</td>\n",
       "      <td>Tottenham Hotspur</td>\n",
       "      <td>1</td>\n",
       "      <td>2</td>\n",
       "    </tr>\n",
       "    <tr>\n",
       "      <th>257</th>\n",
       "      <td>1915</td>\n",
       "      <td>England</td>\n",
       "      <td>England Premier League</td>\n",
       "      <td>2008/2009</td>\n",
       "      <td>26</td>\n",
       "      <td>2009-02-22 00:00:00</td>\n",
       "      <td>Fulham</td>\n",
       "      <td>West Bromwich Albion</td>\n",
       "      <td>2</td>\n",
       "      <td>0</td>\n",
       "    </tr>\n",
       "  </tbody>\n",
       "</table>\n",
       "</div>"
      ],
      "text/plain": [
       "       id country_name             league_name     season  stage  \\\n",
       "0    1730      England  England Premier League  2008/2009      1   \n",
       "258  1917      England  England Premier League  2008/2009     26   \n",
       "257  1915      England  England Premier League  2008/2009     26   \n",
       "\n",
       "                    date  home_team             away_team  home_team_goal  \\\n",
       "0    2008-08-16 00:00:00    Arsenal  West Bromwich Albion               1   \n",
       "258  2009-02-23 00:00:00  Hull City     Tottenham Hotspur               1   \n",
       "257  2009-02-22 00:00:00     Fulham  West Bromwich Albion               2   \n",
       "\n",
       "     away_team_goal  \n",
       "0                 0  \n",
       "258               2  \n",
       "257               0  "
      ]
     },
     "metadata": {},
     "output_type": "display_data"
    },
    {
     "data": {
      "text/html": [
       "<div>\n",
       "<style scoped>\n",
       "    .dataframe tbody tr th:only-of-type {\n",
       "        vertical-align: middle;\n",
       "    }\n",
       "\n",
       "    .dataframe tbody tr th {\n",
       "        vertical-align: top;\n",
       "    }\n",
       "\n",
       "    .dataframe thead th {\n",
       "        text-align: right;\n",
       "    }\n",
       "</style>\n",
       "<table border=\"1\" class=\"dataframe\">\n",
       "  <thead>\n",
       "    <tr style=\"text-align: right;\">\n",
       "      <th></th>\n",
       "      <th>id</th>\n",
       "      <th>country_name</th>\n",
       "      <th>league_name</th>\n",
       "      <th>season</th>\n",
       "      <th>stage</th>\n",
       "      <th>date</th>\n",
       "      <th>home_team</th>\n",
       "      <th>away_team</th>\n",
       "      <th>home_team_goal</th>\n",
       "      <th>away_team_goal</th>\n",
       "    </tr>\n",
       "  </thead>\n",
       "  <tbody>\n",
       "    <tr>\n",
       "      <th>2912</th>\n",
       "      <td>4573</td>\n",
       "      <td>England</td>\n",
       "      <td>England Premier League</td>\n",
       "      <td>2015/2016</td>\n",
       "      <td>26</td>\n",
       "      <td>2016-02-13 00:00:00</td>\n",
       "      <td>Crystal Palace</td>\n",
       "      <td>Watford</td>\n",
       "      <td>1</td>\n",
       "      <td>2</td>\n",
       "    </tr>\n",
       "    <tr>\n",
       "      <th>2913</th>\n",
       "      <td>4574</td>\n",
       "      <td>England</td>\n",
       "      <td>England Premier League</td>\n",
       "      <td>2015/2016</td>\n",
       "      <td>26</td>\n",
       "      <td>2016-02-13 00:00:00</td>\n",
       "      <td>Everton</td>\n",
       "      <td>West Bromwich Albion</td>\n",
       "      <td>0</td>\n",
       "      <td>1</td>\n",
       "    </tr>\n",
       "    <tr>\n",
       "      <th>2914</th>\n",
       "      <td>4576</td>\n",
       "      <td>England</td>\n",
       "      <td>England Premier League</td>\n",
       "      <td>2015/2016</td>\n",
       "      <td>26</td>\n",
       "      <td>2016-02-13 00:00:00</td>\n",
       "      <td>Norwich City</td>\n",
       "      <td>West Ham United</td>\n",
       "      <td>2</td>\n",
       "      <td>2</td>\n",
       "    </tr>\n",
       "  </tbody>\n",
       "</table>\n",
       "</div>"
      ],
      "text/plain": [
       "        id country_name             league_name     season  stage  \\\n",
       "2912  4573      England  England Premier League  2015/2016     26   \n",
       "2913  4574      England  England Premier League  2015/2016     26   \n",
       "2914  4576      England  England Premier League  2015/2016     26   \n",
       "\n",
       "                     date       home_team             away_team  \\\n",
       "2912  2016-02-13 00:00:00  Crystal Palace               Watford   \n",
       "2913  2016-02-13 00:00:00         Everton  West Bromwich Albion   \n",
       "2914  2016-02-13 00:00:00    Norwich City       West Ham United   \n",
       "\n",
       "      home_team_goal  away_team_goal  \n",
       "2912               1               2  \n",
       "2913               0               1  \n",
       "2914               2               2  "
      ]
     },
     "metadata": {},
     "output_type": "display_data"
    }
   ],
   "source": [
    "train, test = process.partition_data(data, by_season=True)\n",
    "\n",
    "display(train.head(3))\n",
    "display(test.head(3))"
   ]
  },
  {
   "cell_type": "markdown",
   "metadata": {},
   "source": [
    "## Model\n",
    "\n",
    "### Basic from Trueskill\n",
    "\n",
    "To model a team's performance, we assume a Gaussian prior, where the prior on skill $s_i$ is \n",
    "$$\n",
    "\\begin{align*}\n",
    "  p(\\mathbf{s_i})\n",
    "  &\\sim\n",
    "  \\text{Normal}( 25, \\frac{25}{3} ^ 2)\n",
    "\\end{align*}\n",
    "$$\n",
    "\n",
    "When learning parameters we expect that the true skill $s_i^*$ be reflected as the mean of the performance distribution above.\n",
    "\n",
    "Given two team's performances, $s_1$ and $s_2$, we then model the game's outcome, $r$, which we define to be the difference of the goals scored by each team against one another $\\textbf{1}[s_1 - s_2] > 0$\n",
    "\n",
    "In the model, this corrosponds to drawing from a Poisson distribution where the rate is the performance of the team. \n",
    "\n",
    "$$\n",
    "\\begin{align*}\n",
    "    r &= \\textbf{1}[\\mathcal{P}(s^*_1) - \\mathcal{P}(s^*_2) > 0]\n",
    "\\end{align*}\n",
    "$$\n",
    "\n",
    "To train the model, given $n$ teams, we obtain a matrix $R^{n, n}$ from the database, where an entry $R[team1, team2]$ would corrospond to the average difference of the goals scored by team1 against team2 and goals scored by team2 against team1. R is skew-symmetric, meaning $R^T = -R$, or more specifically that $R[team1, team2] == -R[team2, team1]$.\n",
    "\n",
    "Our original implementation also shown below proved to converge poorly. As such this model can be translated into a simple Bayesian Linear Regression model. \n",
    "\n",
    "Here, our input data $X$ is a $m\\times n$ matrix where there are $m$ matches and $n$ teams. Each match is represented as a two-hot vector where an entry is 1 if the team is home, -1 if the team is away, 0 otherwise. Our weight matrix $W \\sim \\mathcal{N}(25, \\frac{25}{3} ^ 2)$ is a $d \\times 1$ matrix denoting the skill of each team. Thus $XW$ outputs $Y$, a $m$ dimensional vector denoting the difference in skill levels of the two teams. Our supervised approach uses $Y$ as the goal differences for that particular match."
   ]
  },
  {
   "cell_type": "code",
   "execution_count": 4,
   "metadata": {},
   "outputs": [
    {
     "name": "stderr",
     "output_type": "stream",
     "text": [
      "/Users/vramesh/Google Drive/University/Sem7/Prob Prog/trueskill_augmented/trueskill_env/lib/python3.7/site-packages/edward/util/random_variables.py:52: FutureWarning: Conversion of the second argument of issubdtype from `float` to `np.floating` is deprecated. In future, it will be treated as `np.float64 == np.dtype(float).type`.\n",
      "  not np.issubdtype(value.dtype, np.float) and \\\n"
     ]
    },
    {
     "name": "stdout",
     "output_type": "stream",
     "text": [
      "10000/10000 [100%] ██████████████████████████████ Elapsed: 11s | Loss: 6291.674\n"
     ]
    }
   ],
   "source": [
    "from fifaskill.models import regression\n",
    "from fifaskill.models import basic\n",
    "tsr = regression.TrueSkillRegressor(train, n_iter=10000)"
   ]
  },
  {
   "cell_type": "markdown",
   "metadata": {},
   "source": [
    "### Offense Defense Separation\n",
    "\n",
    "To extend the basic model we seperate the team's skill into two scores, offense $s_{io}$ and defense $s_{id}$, where each is also defined with a Gaussian prior. Each team also has a variable offense and defense performance, based off the corrosponding skill, similar to how skill and performance were related in the basic model. We further now make the assertion that since we are modeling a discrete variable - goals - that we will use a Poisson distribution to model the goals scored. Based on the offense and defense performance, we draw from a Poisson distribution twice to determine the number of goals scored and number of goals allowed. We center the Gaussian prior to the standard normal in order to better account for a goals scored/allowed prior.\n",
    "\n",
    "$$\n",
    "\\begin{align*}\n",
    "s_{io} &\\sim \\mathcal{N}(0,1)\\\\\n",
    "s_{id} &\\sim \\mathcal{N}(0,1)\\\\\n",
    "s_i^* &\\sim \\mathcal{P}(s_{io}-s_{jd})\\\\\n",
    "s_j^* &\\sim \\mathcal{P}(s_{jo}-s_{id})\\\\\n",
    "r &\\sim \\mathbf{1}[s_i^* - s_j^* > 0]\n",
    "\\end{align*}\n",
    "$$\n",
    "\n",
    "We again reduce this to a Bayesian regression model by having one $W_o$ vector and one $W_i$ vector. This is in effect the composition of two log-linear models. Theoretically, this creates a compound Poisson regression model which can be modeled with a simple log-linear model however $y$ (goal difference) can take on negative values so we exponentiate it. We show both cases and will evaluate accordingly."
   ]
  },
  {
   "cell_type": "code",
   "execution_count": 5,
   "metadata": {},
   "outputs": [
    {
     "name": "stdout",
     "output_type": "stream",
     "text": [
      "10000/10000 [100%] ██████████████████████████████ Elapsed: 16s | Loss: 7827.012\n",
      "10000/10000 [100%] ██████████████████████████████ Elapsed: 11s | Loss: 76676.781\n"
     ]
    }
   ],
   "source": [
    "off_def = regression.LogLinearOffDef(train, n_iter=10000)\n",
    "log_lin = regression.LogLinear(train, n_iter=10000)"
   ]
  },
  {
   "cell_type": "markdown",
   "metadata": {},
   "source": [
    "## Inference\n",
    "\n",
    "In the definitions of the models above, our classes inadvertently run inference. We use a factorized variational distribution in all cases. Of greatest note, we identified that the Reparamaterization Score Gradient has a smaller variance than the normal Score Gradient. This can be seen with final two of the plots. Our classes have changed all `KLqp` instances to `ReparamaterizationKLqp` for inference in Edward. "
   ]
  },
  {
   "cell_type": "code",
   "execution_count": 7,
   "metadata": {},
   "outputs": [
    {
     "data": {
      "image/png": "[encoded data removed]",
      "text/plain": [
       "<Figure size 432x288 with 1 Axes>"
      ]
     },
     "metadata": {
      "needs_background": "light"
     },
     "output_type": "display_data"
    },
    {
     "data": {
      "image/png": "[encoded data removed]",
      "text/plain": [
       "<Figure size 432x288 with 1 Axes>"
      ]
     },
     "metadata": {
      "needs_background": "light"
     },
     "output_type": "display_data"
    },
    {
     "data": {
      "image/png": "[encoded data removed]",
      "text/plain": [
       "<Figure size 432x288 with 1 Axes>"
      ]
     },
     "metadata": {
      "needs_background": "light"
     },
     "output_type": "display_data"
    }
   ],
   "source": [
    "from fifaskill.data_processing import visualization\n",
    "%matplotlib inline\n",
    "visualization.plot_loss(tsr)\n",
    "visualization.plot_loss(off_def)\n",
    "visualization.plot_loss(log_lin)"
   ]
  },
  {
   "cell_type": "markdown",
   "metadata": {},
   "source": [
    "This last model uses a TrueSkill python package that used expectation propagation as cited in the paper. We wrapped it to better serve our project. "
   ]
  },
  {
   "cell_type": "code",
   "execution_count": 9,
   "metadata": {},
   "outputs": [],
   "source": [
    "from fifaskill.models import trueskill_model\n",
    "tsm = trueskill_model.TrueskillModel(train)"
   ]
  },
  {
   "cell_type": "markdown",
   "metadata": {},
   "source": [
    "## Model Evaluation and Criticism"
   ]
  },
  {
   "cell_type": "markdown",
   "metadata": {},
   "source": [
    "Firstly we provide the true skill-ordered rankings of the models"
   ]
  },
  {
   "cell_type": "code",
   "execution_count": 12,
   "metadata": {},
   "outputs": [
    {
     "name": "stdout",
     "output_type": "stream",
     "text": [
      "                      points  goal_dif\n",
      "Leicester City          81.0      32.0\n",
      "Arsenal                 71.0      29.0\n",
      "Tottenham Hotspur       70.0      34.0\n",
      "Manchester City         66.0      30.0\n",
      "Manchester United       66.0      14.0\n",
      "Southampton             63.0      18.0\n",
      "West Ham United         62.0      14.0\n",
      "Liverpool               60.0      13.0\n",
      "Stoke City              51.0     -14.0\n",
      "Chelsea                 50.0       6.0\n",
      "Everton                 47.0       4.0\n",
      "Swansea City            47.0     -10.0\n",
      "Watford                 45.0     -10.0\n",
      "West Bromwich Albion    43.0     -14.0\n",
      "Crystal Palace          42.0     -12.0\n",
      "Bournemouth             42.0     -22.0\n",
      "Sunderland              39.0     -14.0\n",
      "Newcastle United        37.0     -21.0\n",
      "Norwich City            34.0     -28.0\n",
      "Aston Villa             17.0     -49.0\n"
     ]
    }
   ],
   "source": [
    "tsr_results = process.rankings_from_skill(tsr.team_skill, tsr.team_num_map)\n",
    "offdef_results = process.rankings_from_skill(off_def.team_skill[0] - off_def.team_skill[1], off_def.team_num_map)\n",
    "loglin_results = process.rankings_from_skill(log_lin.team_skill, log_lin.team_num_map)\n",
    "tsm_results = process.rankings_from_skill(tsm.team_skill, tsm.team_num_map)\n",
    "\n",
    "season_results = process.rankings(test)\n",
    "data_dict = {}\n",
    "data_dict['real_data'] = pd.Series(season_results.index.values)\n",
    "data_dict['tsr'] = pd.Series(tsr_results.index.values)\n",
    "data_dict['offdef'] = pd.Series(offdef_results.index.values)\n",
    "data_dict['loglin'] = pd.Series(loglin_results.index.values)\n",
    "data_dict['tsm'] = pd.Series(tsm_results.index.values)\n",
    "\n",
    "display(pd.DataFrame(data_dict))"
   ]
  },
  {
   "cell_type": "markdown",
   "metadata": {},
   "source": [
    "Here we simulate the season and compare the ranking results for the 4 models"
   ]
  },
  {
   "cell_type": "code",
   "execution_count": null,
   "metadata": {},
   "outputs": [],
   "source": [
    "tsr_results = tsr.simulate(test)\n",
    "offdef_results = off_def.simulate(test)\n",
    "loglin_results = log_lin.simulate(test)\n",
    "tsm_results = tsm.simulate(test)"
   ]
  },
  {
   "cell_type": "markdown",
   "metadata": {},
   "source": [
    "Lastly we look at the Posterior Predictive Checks to check resemblance to the underlying distribution of goals. We see that the models do not seem to represent the true distribution well."
   ]
  },
  {
   "cell_type": "markdown",
   "metadata": {},
   "source": [
    "To evaluate our model's prediction for the offense and defense scores for each team, we test them against the true values as defined by our dataset. For offense, we take an average of the chance creation scores of a team across several seasons, and for defense we average the defense pressure and aggression scores. For future work, it might be useful to determine whether our choice to combine these particular scores exactly corrosponds to a pure offense/defense skill level - perhaps there is a more complex relationship between pressure and aggression for example that would corrospond to higher defense scores."
   ]
  },
  {
   "cell_type": "code",
   "execution_count": 13,
   "metadata": {},
   "outputs": [],
   "source": [
    "query_fname = '../db_queries/off_def.sql'\n",
    "\n",
    "q_file = open(query_fname, 'r')\n",
    "\n",
    "off_def = pd.read_sql(q_file.read(), conn)\n",
    "off_def['offense'] = off_def[['pass', 'cross', 'shoot']].mean(axis=1)\n",
    "off_def['defense'] = off_def[['pressure', 'aggression']].mean(axis=1)\n",
    "off_def = off_def[['team_name', 'offense','defense']]"
   ]
  },
  {
   "cell_type": "code",
   "execution_count": 14,
   "metadata": {},
   "outputs": [
    {
     "data": {
      "text/html": [
       "<div>\n",
       "<style scoped>\n",
       "    .dataframe tbody tr th:only-of-type {\n",
       "        vertical-align: middle;\n",
       "    }\n",
       "\n",
       "    .dataframe tbody tr th {\n",
       "        vertical-align: top;\n",
       "    }\n",
       "\n",
       "    .dataframe thead th {\n",
       "        text-align: right;\n",
       "    }\n",
       "</style>\n",
       "<table border=\"1\" class=\"dataframe\">\n",
       "  <thead>\n",
       "    <tr style=\"text-align: right;\">\n",
       "      <th></th>\n",
       "      <th>team_name</th>\n",
       "      <th>offense</th>\n",
       "      <th>defense</th>\n",
       "    </tr>\n",
       "  </thead>\n",
       "  <tbody>\n",
       "    <tr>\n",
       "      <th>0</th>\n",
       "      <td>Arsenal</td>\n",
       "      <td>42.500000</td>\n",
       "      <td>48.500000</td>\n",
       "    </tr>\n",
       "    <tr>\n",
       "      <th>1</th>\n",
       "      <td>Aston Villa</td>\n",
       "      <td>52.722222</td>\n",
       "      <td>42.750000</td>\n",
       "    </tr>\n",
       "    <tr>\n",
       "      <th>2</th>\n",
       "      <td>Birmingham City</td>\n",
       "      <td>58.777778</td>\n",
       "      <td>48.750000</td>\n",
       "    </tr>\n",
       "    <tr>\n",
       "      <th>3</th>\n",
       "      <td>Blackburn Rovers</td>\n",
       "      <td>51.666667</td>\n",
       "      <td>50.333333</td>\n",
       "    </tr>\n",
       "    <tr>\n",
       "      <th>4</th>\n",
       "      <td>Blackpool</td>\n",
       "      <td>58.833333</td>\n",
       "      <td>49.250000</td>\n",
       "    </tr>\n",
       "  </tbody>\n",
       "</table>\n",
       "</div>"
      ],
      "text/plain": [
       "          team_name    offense    defense\n",
       "0           Arsenal  42.500000  48.500000\n",
       "1       Aston Villa  52.722222  42.750000\n",
       "2   Birmingham City  58.777778  48.750000\n",
       "3  Blackburn Rovers  51.666667  50.333333\n",
       "4         Blackpool  58.833333  49.250000"
      ]
     },
     "execution_count": 14,
     "metadata": {},
     "output_type": "execute_result"
    }
   ],
   "source": [
    "off_def.head(5)"
   ]
  },
  {
   "cell_type": "markdown",
   "metadata": {},
   "source": [
    "Next, we compare these scores to our predicted values"
   ]
  },
  {
   "cell_type": "markdown",
   "metadata": {},
   "source": [
    "### Criticism/ Model Revision"
   ]
  },
  {
   "cell_type": "markdown",
   "metadata": {},
   "source": [
    "As we have explained earlier, our original conception of the model greatly changed because the model became trapped in a local optima, which resulted in the adaptation of varying regression models. "
   ]
  },
  {
   "cell_type": "code",
   "execution_count": 15,
   "metadata": {},
   "outputs": [],
   "source": [
    "# Next Steps"
   ]
  }
 ],
 "metadata": {
  "anaconda-cloud": {},
  "kernelspec": {
   "display_name": "Python 3",
   "language": "python",
   "name": "python3"
  },
  "language_info": {
   "codemirror_mode": {
    "name": "ipython",
    "version": 3
   },
   "file_extension": ".py",
   "mimetype": "text/x-python",
   "name": "python",
   "nbconvert_exporter": "python",
   "pygments_lexer": "ipython3",
   "version": "3.7.0"
  }
 },
 "nbformat": 4,
 "nbformat_minor": 2
}
