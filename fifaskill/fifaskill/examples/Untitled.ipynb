{
 "cells": [
  {
   "cell_type": "code",
   "execution_count": 1,
   "metadata": {},
   "outputs": [],
   "source": [
    "import numpy as np\n",
    "import pandas as pd\n",
    "import sqlite3"
   ]
  },
  {
   "cell_type": "code",
   "execution_count": 4,
   "metadata": {},
   "outputs": [
    {
     "data": {
      "text/html": [
       "<div>\n",
       "<style scoped>\n",
       "    .dataframe tbody tr th:only-of-type {\n",
       "        vertical-align: middle;\n",
       "    }\n",
       "\n",
       "    .dataframe tbody tr th {\n",
       "        vertical-align: top;\n",
       "    }\n",
       "\n",
       "    .dataframe thead th {\n",
       "        text-align: right;\n",
       "    }\n",
       "</style>\n",
       "<table border=\"1\" class=\"dataframe\">\n",
       "  <thead>\n",
       "    <tr style=\"text-align: right;\">\n",
       "      <th></th>\n",
       "      <th>id</th>\n",
       "      <th>country_name</th>\n",
       "      <th>league_name</th>\n",
       "      <th>season</th>\n",
       "      <th>stage</th>\n",
       "      <th>date</th>\n",
       "      <th>home_team</th>\n",
       "      <th>away_team</th>\n",
       "      <th>home_team_goal</th>\n",
       "      <th>away_team_goal</th>\n",
       "    </tr>\n",
       "  </thead>\n",
       "  <tbody>\n",
       "    <tr>\n",
       "      <th>3035</th>\n",
       "      <td>4705</td>\n",
       "      <td>England</td>\n",
       "      <td>England Premier League</td>\n",
       "      <td>2015/2016</td>\n",
       "      <td>38</td>\n",
       "      <td>2016-05-15 00:00:00</td>\n",
       "      <td>Stoke City</td>\n",
       "      <td>West Ham United</td>\n",
       "      <td>2</td>\n",
       "      <td>1</td>\n",
       "    </tr>\n",
       "    <tr>\n",
       "      <th>3036</th>\n",
       "      <td>4706</td>\n",
       "      <td>England</td>\n",
       "      <td>England Premier League</td>\n",
       "      <td>2015/2016</td>\n",
       "      <td>38</td>\n",
       "      <td>2016-05-15 00:00:00</td>\n",
       "      <td>Swansea City</td>\n",
       "      <td>Manchester City</td>\n",
       "      <td>1</td>\n",
       "      <td>1</td>\n",
       "    </tr>\n",
       "    <tr>\n",
       "      <th>3037</th>\n",
       "      <td>4707</td>\n",
       "      <td>England</td>\n",
       "      <td>England Premier League</td>\n",
       "      <td>2015/2016</td>\n",
       "      <td>38</td>\n",
       "      <td>2016-05-15 00:00:00</td>\n",
       "      <td>Watford</td>\n",
       "      <td>Sunderland</td>\n",
       "      <td>2</td>\n",
       "      <td>2</td>\n",
       "    </tr>\n",
       "    <tr>\n",
       "      <th>3038</th>\n",
       "      <td>4708</td>\n",
       "      <td>England</td>\n",
       "      <td>England Premier League</td>\n",
       "      <td>2015/2016</td>\n",
       "      <td>38</td>\n",
       "      <td>2016-05-15 00:00:00</td>\n",
       "      <td>West Bromwich Albion</td>\n",
       "      <td>Liverpool</td>\n",
       "      <td>1</td>\n",
       "      <td>1</td>\n",
       "    </tr>\n",
       "    <tr>\n",
       "      <th>3039</th>\n",
       "      <td>4702</td>\n",
       "      <td>England</td>\n",
       "      <td>England Premier League</td>\n",
       "      <td>2015/2016</td>\n",
       "      <td>38</td>\n",
       "      <td>2016-05-17 00:00:00</td>\n",
       "      <td>Manchester United</td>\n",
       "      <td>Bournemouth</td>\n",
       "      <td>3</td>\n",
       "      <td>1</td>\n",
       "    </tr>\n",
       "  </tbody>\n",
       "</table>\n",
       "</div>"
      ],
      "text/plain": [
       "        id country_name             league_name     season  stage  \\\n",
       "3035  4705      England  England Premier League  2015/2016     38   \n",
       "3036  4706      England  England Premier League  2015/2016     38   \n",
       "3037  4707      England  England Premier League  2015/2016     38   \n",
       "3038  4708      England  England Premier League  2015/2016     38   \n",
       "3039  4702      England  England Premier League  2015/2016     38   \n",
       "\n",
       "                     date             home_team        away_team  \\\n",
       "3035  2016-05-15 00:00:00            Stoke City  West Ham United   \n",
       "3036  2016-05-15 00:00:00          Swansea City  Manchester City   \n",
       "3037  2016-05-15 00:00:00               Watford       Sunderland   \n",
       "3038  2016-05-15 00:00:00  West Bromwich Albion        Liverpool   \n",
       "3039  2016-05-17 00:00:00     Manchester United      Bournemouth   \n",
       "\n",
       "      home_team_goal  away_team_goal  \n",
       "3035               2               1  \n",
       "3036               1               1  \n",
       "3037               2               2  \n",
       "3038               1               1  \n",
       "3039               3               1  "
      ]
     },
     "execution_count": 4,
     "metadata": {},
     "output_type": "execute_result"
    }
   ],
   "source": [
    "db = 'database.sqlite'\n",
    "query_fname = 'db_queries/detailed_match_query.sql'\n",
    "\n",
    "conn = sqlite3.connect(db)\n",
    "\n",
    "q_file = open(query_fname, 'r')\n",
    "data = pd.read_sql(q_file.read(), conn)\n",
    "\n",
    "data.head()"
   ]
  },
  {
   "cell_type": "code",
   "execution_count": 5,
   "metadata": {},
   "outputs": [
    {
     "name": "stdout",
     "output_type": "stream",
     "text": [
      "['Arsenal' 'Sunderland' 'West Ham United' 'Everton' 'Middlesbrough'\n",
      " 'Bolton Wanderers' 'Hull City' 'Manchester United' 'Aston Villa'\n",
      " 'Chelsea' 'Liverpool' 'Tottenham Hotspur' 'Newcastle United'\n",
      " 'Blackburn Rovers' 'Fulham' 'West Bromwich Albion' 'Stoke City'\n",
      " 'Manchester City' 'Wigan Athletic' 'Portsmouth' 'Wolverhampton Wanderers'\n",
      " 'Birmingham City' 'Burnley' 'Blackpool' 'Queens Park Rangers'\n",
      " 'Swansea City' 'Norwich City' 'Reading' 'Southampton' 'Crystal Palace'\n",
      " 'Cardiff City' 'Leicester City' 'Bournemouth' 'Watford']\n",
      "['West Bromwich Albion' 'Liverpool' 'Wigan Athletic' 'Blackburn Rovers'\n",
      " 'Tottenham Hotspur' 'Stoke City' 'Fulham' 'Newcastle United'\n",
      " 'Manchester City' 'Portsmouth' 'Middlesbrough' 'Sunderland'\n",
      " 'Bolton Wanderers' 'Hull City' 'Arsenal' 'Everton' 'Aston Villa'\n",
      " 'West Ham United' 'Chelsea' 'Manchester United' 'Burnley'\n",
      " 'Birmingham City' 'Wolverhampton Wanderers' 'Blackpool' 'Norwich City'\n",
      " 'Swansea City' 'Queens Park Rangers' 'Southampton' 'Reading'\n",
      " 'Cardiff City' 'Crystal Palace' 'Leicester City' 'Watford' 'Bournemouth']\n",
      "['Arsenal' 'Aston Villa' 'Birmingham City' 'Blackburn Rovers' 'Blackpool'\n",
      " 'Bolton Wanderers' 'Bournemouth' 'Burnley' 'Cardiff City' 'Chelsea'\n",
      " 'Crystal Palace' 'Everton' 'Fulham' 'Hull City' 'Leicester City'\n",
      " 'Liverpool' 'Manchester City' 'Manchester United' 'Middlesbrough'\n",
      " 'Newcastle United' 'Norwich City' 'Portsmouth' 'Queens Park Rangers'\n",
      " 'Reading' 'Southampton' 'Stoke City' 'Sunderland' 'Swansea City'\n",
      " 'Tottenham Hotspur' 'Watford' 'West Bromwich Albion' 'West Ham United'\n",
      " 'Wigan Athletic' 'Wolverhampton Wanderers']\n"
     ]
    }
   ],
   "source": [
    "homes = pd.unique(data.home_team)\n",
    "aways = pd.unique(data.away_team)\n",
    "\n",
    "print(homes)\n",
    "print(aways)\n",
    "print(np.union1d(homes,aways))\n",
    "teams = np.union1d(homes,aways)"
   ]
  },
  {
   "cell_type": "code",
   "execution_count": 6,
   "metadata": {},
   "outputs": [],
   "source": [
    "from trueskill import Rating, quality_1vs1, rate_1vs1\n",
    "\n",
    "team_ratings = {}\n",
    "for team in teams:\n",
    "    team_ratings[team] = Rating()"
   ]
  },
  {
   "cell_type": "code",
   "execution_count": 7,
   "metadata": {},
   "outputs": [],
   "source": [
    "for row in data.itertuples():\n",
    "    draw = False\n",
    "    if row.home_team_goal > row.away_team_goal:\n",
    "        team_win = row.home_team\n",
    "        team_lose = row.away_team\n",
    "    elif row.home_team_goal < row.away_team_goal:\n",
    "        team_win = row.away_team\n",
    "        team_lose = row.home_team\n",
    "    else:\n",
    "        team_win = row.home_team\n",
    "        team_lose = row.away_team\n",
    "        draw=True\n",
    "    \n",
    "    rating_win = team_ratings[team_win]\n",
    "    rating_lose = team_ratings[team_lose]\n",
    "    rating_win, rating_lose = rate_1vs1(rating_win, rating_lose, drawn=draw)\n",
    "    team_ratings[team_win] = rating_win\n",
    "    team_ratings[team_lose] = rating_lose\n",
    "    "
   ]
  },
  {
   "cell_type": "code",
   "execution_count": 8,
   "metadata": {},
   "outputs": [],
   "source": [
    "import itertools\n",
    "import math\n",
    "\n",
    "def win_probability(team1, team2):\n",
    "    delta_mu = sum(r.mu for r in team1) - sum(r.mu for r in team2)\n",
    "    sum_sigma = sum(r.sigma ** 2 for r in itertools.chain(team1, team2))\n",
    "    size = len(team1) + len(team2)\n",
    "    ts = trueskill.global_env()\n",
    "    denom = math.sqrt(size * (ts.beta * ts.beta) + sum_sigma)\n",
    "    \n",
    "    return ts.cdf(delta_mu / denom)"
   ]
  },
  {
   "cell_type": "code",
   "execution_count": 10,
   "metadata": {},
   "outputs": [
    {
     "data": {
      "text/plain": [
       "trueskill.TrueSkill(mu=25.000, sigma=8.333, beta=4.167, tau=0.083, draw_probability=10.0%)"
      ]
     },
     "execution_count": 10,
     "metadata": {},
     "output_type": "execute_result"
    }
   ],
   "source": [
    "import trueskill\n",
    "trueskill.TrueSkill(mu=25.0, sigma=8.333333333333334, beta=4.166666666666667, tau=0.08333333333333334, draw_probability=0.1)"
   ]
  },
  {
   "cell_type": "code",
   "execution_count": 11,
   "metadata": {},
   "outputs": [
    {
     "name": "stdout",
     "output_type": "stream",
     "text": [
      "trueskill.Rating(mu=23.849, sigma=0.777)\n",
      "trueskill.Rating(mu=27.845, sigma=0.775)\n",
      "0.2525007922773095\n",
      "0.7474992077226905\n",
      "23.849333743729666\n"
     ]
    }
   ],
   "source": [
    "team1 = team_ratings['Fulham']\n",
    "team2 = team_ratings['Manchester United']\n",
    "\n",
    "print(team1)\n",
    "print(team2)\n",
    "print(win_probability([team1], [team2]))\n",
    "print(win_probability([team2], [team1]))\n",
    "\n",
    "print(team1.mu)"
   ]
  },
  {
   "cell_type": "code",
   "execution_count": 11,
   "metadata": {},
   "outputs": [
    {
     "name": "stderr",
     "output_type": "stream",
     "text": [
      "/Users/vramesh/Google Drive/University/Sem7/Prob Prog/trueskill_augmented/trueskill_env/lib/python3.7/importlib/_bootstrap.py:219: RuntimeWarning: compiletime version 3.6 of module 'tensorflow.python.framework.fast_tensor_util' does not match runtime version 3.7\n",
      "  return f(*args, **kwds)\n"
     ]
    }
   ],
   "source": [
    "import tensorflow as tf\n",
    "import edward as ed"
   ]
  }
 ],
 "metadata": {
  "kernelspec": {
   "display_name": "Python 3",
   "language": "python",
   "name": "python3"
  },
  "language_info": {
   "codemirror_mode": {
    "name": "ipython",
    "version": 3
   },
   "file_extension": ".py",
   "mimetype": "text/x-python",
   "name": "python",
   "nbconvert_exporter": "python",
   "pygments_lexer": "ipython3",
   "version": "3.7.0"
  }
 },
 "nbformat": 4,
 "nbformat_minor": 2
}
