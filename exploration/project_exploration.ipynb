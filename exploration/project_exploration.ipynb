{
 "cells": [
  {
   "cell_type": "code",
   "execution_count": 1,
   "metadata": {},
   "outputs": [],
   "source": [
    "import numpy as np\n",
    "import pandas as pd\n",
    "import sqlite3\n",
    "import matplotlib.pyplot as plt\n",
    "import tensorflow as tf\n",
    "import edward as ed\n",
    "from edward.models import Normal, Poisson"
   ]
  },
  {
   "cell_type": "markdown",
   "metadata": {},
   "source": [
    "## Data Selection\n",
    "\n",
    "As a start, let's select the data from the Premier League in the 2008/2009 season"
   ]
  },
  {
   "cell_type": "code",
   "execution_count": 2,
   "metadata": {},
   "outputs": [],
   "source": [
    "path = \"./Input/\"  #Insert path here\n",
    "database = path + 'database.sqlite'\n",
    "conn = sqlite3.connect(database)\n",
    "\n",
    "tables = pd.read_sql(\"\"\"SELECT *\n",
    "                        FROM sqlite_master\n",
    "                        WHERE type='table';\"\"\", conn)"
   ]
  },
  {
   "cell_type": "code",
   "execution_count": 3,
   "metadata": {},
   "outputs": [],
   "source": [
    "detailed_matches = pd.read_sql(\"\"\"SELECT Match.id, \n",
    "                                        Country.name AS country_name, \n",
    "                                        League.name AS league_name, \n",
    "                                        season, \n",
    "                                        stage, \n",
    "                                        date,\n",
    "                                        HT.team_long_name AS  home_team,\n",
    "                                        AT.team_long_name AS away_team,\n",
    "                                        home_team_goal, \n",
    "                                        away_team_goal                                        \n",
    "                                FROM Match\n",
    "                                JOIN Country on Country.id = Match.country_id\n",
    "                                JOIN League on League.id = Match.league_id\n",
    "                                LEFT JOIN Team AS HT on HT.team_api_id = Match.home_team_api_id\n",
    "                                LEFT JOIN Team AS AT on AT.team_api_id = Match.away_team_api_id\n",
    "                                where country_name = 'England' and season = '2008/2009'\n",
    "                                ORDER by date\n",
    "                                ;\"\"\", conn)"
   ]
  },
  {
   "cell_type": "markdown",
   "metadata": {},
   "source": [
    "Next let's create a matrix that evaluates how the teams performed against each other. If there are n teams, then there are nxn entries, with [a,b] being team a's score vs team b. we have [a,b] == -[b,a]"
   ]
  },
  {
   "cell_type": "code",
   "execution_count": 4,
   "metadata": {},
   "outputs": [],
   "source": [
    "# Make a matrix of nxn, matchups of all the teams\n",
    "teams = detailed_matches.home_team.unique()\n",
    "teams_dict = dict(zip(teams, range(len(teams))))\n",
    "\n",
    "n = len(teams)\n",
    "matchup = np.zeros((n,n))\n",
    "\n",
    "# Normalize inter-team scores by number of games played\n",
    "games_count = np.ones((n,n))\n",
    "\n",
    "\n",
    "for index, row in detailed_matches.iterrows():\n",
    "    home = teams_dict[row.home_team]\n",
    "    away = teams_dict[row.away_team]\n",
    "    score = row.home_team_goal - row.away_team_goal\n",
    "    matchup[home, away] += score\n",
    "    matchup[away, home] -= score\n",
    "    games_count[home, away] += 1\n",
    "    games_count[away, home] += 1\n",
    "\n",
    "matchup = np.divide(matchup,games_count)"
   ]
  },
  {
   "cell_type": "markdown",
   "metadata": {},
   "source": [
    "## Model Building\n",
    "\n",
    "Now we create an Edward model, with the team's skill represented as a Gaussian, initialized like 25, (25/3)^2"
   ]
  },
  {
   "cell_type": "code",
   "execution_count": 5,
   "metadata": {},
   "outputs": [],
   "source": [
    "#Team Skill\n",
    "#initialize \n",
    "initial_loc = tf.ones((n,1), dtype='float32') * 25\n",
    "initial_scale = tf.ones((n,1),  dtype='float32') * (25/3)**2\n",
    "\n",
    "team_skill = Normal(loc=initial_loc, scale=initial_scale)\n",
    "\n",
    "#Team Performance\n",
    "team_performance = Normal(loc=team_skill, scale=initial_scale)\n",
    "\n",
    "perf_diff = tf.tile(tf.reduce_sum(team_performance, 1, keepdims=True), [1, n])\n",
    "perf_diff = perf_diff - tf.transpose(perf_diff)\n"
   ]
  },
  {
   "cell_type": "code",
   "execution_count": 6,
   "metadata": {},
   "outputs": [
    {
     "name": "stderr",
     "output_type": "stream",
     "text": [
      "C:\\Users\\aanic\\Anaconda3\\envs\\pp_project\\lib\\site-packages\\edward\\util\\random_variables.py:52: FutureWarning: Conversion of the second argument of issubdtype from `float` to `np.floating` is deprecated. In future, it will be treated as `np.float64 == np.dtype(float).type`.\n",
      "  not np.issubdtype(value.dtype, np.float) and \\\n"
     ]
    }
   ],
   "source": [
    "qz = Normal(loc=tf.get_variable(\"qz/loc\", [n, 1]),\n",
    "            scale=tf.nn.softplus(tf.get_variable(\"qz/scale\", [n, 1])))\n",
    "\n",
    "inference = ed.KLqp({team_skill: qz}, data={perf_diff: matchup*25})"
   ]
  },
  {
   "cell_type": "code",
   "execution_count": 7,
   "metadata": {},
   "outputs": [
    {
     "name": "stdout",
     "output_type": "stream",
     "text": [
      "10000/10000 [100%] ██████████████████████████████ Elapsed: 9s | Loss: 3.966\n"
     ]
    }
   ],
   "source": [
    "inference.run(n_iter=10000)"
   ]
  },
  {
   "cell_type": "markdown",
   "metadata": {},
   "source": [
    "## Evaluating Results"
   ]
  },
  {
   "cell_type": "code",
   "execution_count": null,
   "metadata": {},
   "outputs": [],
   "source": []
  }
 ],
 "metadata": {
  "kernelspec": {
   "display_name": "Python 3",
   "language": "python",
   "name": "python3"
  },
  "language_info": {
   "codemirror_mode": {
    "name": "ipython",
    "version": 3
   },
   "file_extension": ".py",
   "mimetype": "text/x-python",
   "name": "python",
   "nbconvert_exporter": "python",
   "pygments_lexer": "ipython3",
   "version": "3.7.0"
  }
 },
 "nbformat": 4,
 "nbformat_minor": 2
}
